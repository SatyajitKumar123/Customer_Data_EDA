{
 "cells": [
  {
   "cell_type": "markdown",
   "id": "5cf8a510-5d8d-4afd-9509-3c78d68a3839",
   "metadata": {},
   "source": [
    "# EDA Process: From Data Inspection to Cleaning"
   ]
  },
  {
   "cell_type": "markdown",
   "id": "f0b230ad-bc3f-430d-a951-5c3000b666d2",
   "metadata": {},
   "source": [
    "## Data Inspection & Understanding"
   ]
  },
  {
   "cell_type": "code",
   "execution_count": 4,
   "id": "9fe4b1df-4d87-473a-a989-db70abd1ae1c",
   "metadata": {},
   "outputs": [],
   "source": [
    "import pandas as pd\n",
    "import numpy as np"
   ]
  },
  {
   "cell_type": "code",
   "execution_count": 8,
   "id": "7b9ee18a-8d3a-41e7-80e4-ea9e8b252add",
   "metadata": {},
   "outputs": [],
   "source": [
    "df = pd.read_csv(\"https://raw.githubusercontent.com/SatyajitKumar123/DataSets/refs/heads/main/complex_customer_data.csv?token=GHSAT0AAAAAAC756TNT4OPRR26IKQ2NORCQZ7ZJRIA\")"
   ]
  },
  {
   "cell_type": "code",
   "execution_count": 10,
   "id": "7d0c8752-fe71-4e9a-9ae6-9657c3ba2678",
   "metadata": {},
   "outputs": [
    {
     "name": "stdout",
     "output_type": "stream",
     "text": [
      "Number of Rows:  10800\n",
      "Number of Columns:  15\n"
     ]
    }
   ],
   "source": [
    "## Basic Inspection\n",
    "print(\"Number of Rows: \", df.shape[0])\n",
    "print(\"Number of Columns: \", df.shape[1])"
   ]
  },
  {
   "cell_type": "code",
   "execution_count": 15,
   "id": "e5b96653-7638-4272-b4a8-570a893b14a7",
   "metadata": {},
   "outputs": [
    {
     "name": "stdout",
     "output_type": "stream",
     "text": [
      "\n",
      "=== Column Data Types===\n",
      "customer_id            object\n",
      "full_name              object\n",
      "birth_date             object\n",
      "gender                 object\n",
      "email                  object\n",
      "join_date              object\n",
      "last_purchase          object\n",
      "total_spent           float64\n",
      "membership_tier        object\n",
      "discount_used          object\n",
      "product_rating         object\n",
      "address                object\n",
      "phone_number           object\n",
      "loyalty_points         object\n",
      "purchase_frequency     object\n",
      "dtype: object\n"
     ]
    }
   ],
   "source": [
    "print(\"\\n=== Column Data Types===\")\n",
    "print(df.dtypes)"
   ]
  },
  {
   "cell_type": "code",
   "execution_count": 17,
   "id": "bf653dee-bf84-4bd9-8678-3de342a3df5a",
   "metadata": {},
   "outputs": [
    {
     "data": {
      "text/html": [
       "<div>\n",
       "<style scoped>\n",
       "    .dataframe tbody tr th:only-of-type {\n",
       "        vertical-align: middle;\n",
       "    }\n",
       "\n",
       "    .dataframe tbody tr th {\n",
       "        vertical-align: top;\n",
       "    }\n",
       "\n",
       "    .dataframe thead th {\n",
       "        text-align: right;\n",
       "    }\n",
       "</style>\n",
       "<table border=\"1\" class=\"dataframe\">\n",
       "  <thead>\n",
       "    <tr style=\"text-align: right;\">\n",
       "      <th></th>\n",
       "      <th>customer_id</th>\n",
       "      <th>full_name</th>\n",
       "      <th>birth_date</th>\n",
       "      <th>gender</th>\n",
       "      <th>email</th>\n",
       "      <th>join_date</th>\n",
       "      <th>last_purchase</th>\n",
       "      <th>total_spent</th>\n",
       "      <th>membership_tier</th>\n",
       "      <th>discount_used</th>\n",
       "      <th>product_rating</th>\n",
       "      <th>address</th>\n",
       "      <th>phone_number</th>\n",
       "      <th>loyalty_points</th>\n",
       "      <th>purchase_frequency</th>\n",
       "    </tr>\n",
       "  </thead>\n",
       "  <tbody>\n",
       "    <tr>\n",
       "      <th>0</th>\n",
       "      <td>CUST10000</td>\n",
       "      <td>Susan Chen</td>\n",
       "      <td>1968-09-22</td>\n",
       "      <td>U</td>\n",
       "      <td>michelle29@example.com</td>\n",
       "      <td>2021-09-13</td>\n",
       "      <td>2024-04-19</td>\n",
       "      <td>625.30</td>\n",
       "      <td>NaN</td>\n",
       "      <td>No</td>\n",
       "      <td>2</td>\n",
       "      <td>9690 John Spurs Apt. 752, Walterton, AZ 76832</td>\n",
       "      <td>+1-989-849-8686x9866</td>\n",
       "      <td>3309</td>\n",
       "      <td>Monthly</td>\n",
       "    </tr>\n",
       "    <tr>\n",
       "      <th>1</th>\n",
       "      <td>CUST10001</td>\n",
       "      <td>Bryan Horn</td>\n",
       "      <td>1974-06-25</td>\n",
       "      <td>Female</td>\n",
       "      <td>jessicafuller@example.com</td>\n",
       "      <td>2021-01-28</td>\n",
       "      <td>2024-05-30</td>\n",
       "      <td>528.01</td>\n",
       "      <td>gold</td>\n",
       "      <td>True</td>\n",
       "      <td>5 stars</td>\n",
       "      <td>52018 Hubbard Islands, Archerchester, ND 19523</td>\n",
       "      <td>721.294.7898x226</td>\n",
       "      <td>1771</td>\n",
       "      <td>NaN</td>\n",
       "    </tr>\n",
       "    <tr>\n",
       "      <th>2</th>\n",
       "      <td>CUST10002</td>\n",
       "      <td>LAUREN HARDY</td>\n",
       "      <td>1992-11-14</td>\n",
       "      <td>m</td>\n",
       "      <td>littlemichael@example.com</td>\n",
       "      <td>2020-06-08</td>\n",
       "      <td>2025-02-18</td>\n",
       "      <td>302.17</td>\n",
       "      <td>Gold</td>\n",
       "      <td>True</td>\n",
       "      <td>3</td>\n",
       "      <td>06170 Mary Parkways, Tammybury, SC 62336</td>\n",
       "      <td>001-210-269-7386x698</td>\n",
       "      <td>2040</td>\n",
       "      <td>Monthly</td>\n",
       "    </tr>\n",
       "    <tr>\n",
       "      <th>3</th>\n",
       "      <td>CUST10003</td>\n",
       "      <td>AMY CERVANTES</td>\n",
       "      <td>1949-05-09</td>\n",
       "      <td>U</td>\n",
       "      <td>aross@example.net</td>\n",
       "      <td>2022-11-10</td>\n",
       "      <td>2024-08-23</td>\n",
       "      <td>501.20</td>\n",
       "      <td>Bronze</td>\n",
       "      <td>1</td>\n",
       "      <td>5 stars</td>\n",
       "      <td>780 Gilbert Centers Suite 823, West Kelly, MO ...</td>\n",
       "      <td>901.424.8464x0519</td>\n",
       "      <td>2759</td>\n",
       "      <td>weekly</td>\n",
       "    </tr>\n",
       "    <tr>\n",
       "      <th>4</th>\n",
       "      <td>CUST10004</td>\n",
       "      <td>Amanda Taylor</td>\n",
       "      <td>1950-03-29</td>\n",
       "      <td>Male</td>\n",
       "      <td>smithjoshua@example.net</td>\n",
       "      <td>2021-08-10</td>\n",
       "      <td>2024-05-31</td>\n",
       "      <td>285.68</td>\n",
       "      <td>GOLD</td>\n",
       "      <td>0</td>\n",
       "      <td>NaN</td>\n",
       "      <td>888 Taylor Pass, Garrettchester, DE 25596</td>\n",
       "      <td>(730)316-0114</td>\n",
       "      <td>2120</td>\n",
       "      <td>weekly</td>\n",
       "    </tr>\n",
       "  </tbody>\n",
       "</table>\n",
       "</div>"
      ],
      "text/plain": [
       "  customer_id      full_name  birth_date  gender                      email  \\\n",
       "0   CUST10000     Susan Chen  1968-09-22       U     michelle29@example.com   \n",
       "1   CUST10001     Bryan Horn  1974-06-25  Female  jessicafuller@example.com   \n",
       "2   CUST10002   LAUREN HARDY  1992-11-14       m  littlemichael@example.com   \n",
       "3   CUST10003  AMY CERVANTES  1949-05-09       U          aross@example.net   \n",
       "4   CUST10004  Amanda Taylor  1950-03-29    Male    smithjoshua@example.net   \n",
       "\n",
       "    join_date last_purchase  total_spent membership_tier discount_used  \\\n",
       "0  2021-09-13    2024-04-19       625.30             NaN            No   \n",
       "1  2021-01-28    2024-05-30       528.01            gold          True   \n",
       "2  2020-06-08    2025-02-18       302.17            Gold          True   \n",
       "3  2022-11-10    2024-08-23       501.20          Bronze             1   \n",
       "4  2021-08-10    2024-05-31       285.68            GOLD             0   \n",
       "\n",
       "  product_rating                                            address  \\\n",
       "0              2      9690 John Spurs Apt. 752, Walterton, AZ 76832   \n",
       "1        5 stars     52018 Hubbard Islands, Archerchester, ND 19523   \n",
       "2              3           06170 Mary Parkways, Tammybury, SC 62336   \n",
       "3        5 stars  780 Gilbert Centers Suite 823, West Kelly, MO ...   \n",
       "4            NaN          888 Taylor Pass, Garrettchester, DE 25596   \n",
       "\n",
       "           phone_number loyalty_points purchase_frequency  \n",
       "0  +1-989-849-8686x9866           3309            Monthly  \n",
       "1      721.294.7898x226           1771                NaN  \n",
       "2  001-210-269-7386x698           2040            Monthly  \n",
       "3     901.424.8464x0519           2759             weekly  \n",
       "4         (730)316-0114           2120             weekly  "
      ]
     },
     "execution_count": 17,
     "metadata": {},
     "output_type": "execute_result"
    }
   ],
   "source": [
    "df.head()"
   ]
  },
  {
   "cell_type": "code",
   "execution_count": 19,
   "id": "1fca6c5c-29a0-4472-9374-bcbfcc08f37e",
   "metadata": {},
   "outputs": [
    {
     "data": {
      "text/html": [
       "<div>\n",
       "<style scoped>\n",
       "    .dataframe tbody tr th:only-of-type {\n",
       "        vertical-align: middle;\n",
       "    }\n",
       "\n",
       "    .dataframe tbody tr th {\n",
       "        vertical-align: top;\n",
       "    }\n",
       "\n",
       "    .dataframe thead th {\n",
       "        text-align: right;\n",
       "    }\n",
       "</style>\n",
       "<table border=\"1\" class=\"dataframe\">\n",
       "  <thead>\n",
       "    <tr style=\"text-align: right;\">\n",
       "      <th></th>\n",
       "      <th>customer_id</th>\n",
       "      <th>full_name</th>\n",
       "      <th>birth_date</th>\n",
       "      <th>gender</th>\n",
       "      <th>email</th>\n",
       "      <th>join_date</th>\n",
       "      <th>last_purchase</th>\n",
       "      <th>total_spent</th>\n",
       "      <th>membership_tier</th>\n",
       "      <th>discount_used</th>\n",
       "      <th>product_rating</th>\n",
       "      <th>address</th>\n",
       "      <th>phone_number</th>\n",
       "      <th>loyalty_points</th>\n",
       "      <th>purchase_frequency</th>\n",
       "    </tr>\n",
       "  </thead>\n",
       "  <tbody>\n",
       "    <tr>\n",
       "      <th>count</th>\n",
       "      <td>10800</td>\n",
       "      <td>10800</td>\n",
       "      <td>10800</td>\n",
       "      <td>9470</td>\n",
       "      <td>10504</td>\n",
       "      <td>10800</td>\n",
       "      <td>10060</td>\n",
       "      <td>10800.000000</td>\n",
       "      <td>9462</td>\n",
       "      <td>9589</td>\n",
       "      <td>8365</td>\n",
       "      <td>10800</td>\n",
       "      <td>9241</td>\n",
       "      <td>10800</td>\n",
       "      <td>9220</td>\n",
       "    </tr>\n",
       "    <tr>\n",
       "      <th>unique</th>\n",
       "      <td>10300</td>\n",
       "      <td>9636</td>\n",
       "      <td>8132</td>\n",
       "      <td>7</td>\n",
       "      <td>9064</td>\n",
       "      <td>3027</td>\n",
       "      <td>366</td>\n",
       "      <td>NaN</td>\n",
       "      <td>7</td>\n",
       "      <td>8</td>\n",
       "      <td>7</td>\n",
       "      <td>10161</td>\n",
       "      <td>8264</td>\n",
       "      <td>5596</td>\n",
       "      <td>6</td>\n",
       "    </tr>\n",
       "    <tr>\n",
       "      <th>top</th>\n",
       "      <td>CUST13900</td>\n",
       "      <td>Michael Davis</td>\n",
       "      <td>1953-11-15</td>\n",
       "      <td>m</td>\n",
       "      <td>invalid_email@</td>\n",
       "      <td>Invalid Date</td>\n",
       "      <td>2024-12-08</td>\n",
       "      <td>NaN</td>\n",
       "      <td>silver</td>\n",
       "      <td>False</td>\n",
       "      <td>4</td>\n",
       "      <td>286 Amy Drives, West Mirandaburgh, NJ 41273</td>\n",
       "      <td>123-456</td>\n",
       "      <td>4554</td>\n",
       "      <td>weekly</td>\n",
       "    </tr>\n",
       "    <tr>\n",
       "      <th>freq</th>\n",
       "      <td>2</td>\n",
       "      <td>7</td>\n",
       "      <td>6</td>\n",
       "      <td>1371</td>\n",
       "      <td>540</td>\n",
       "      <td>540</td>\n",
       "      <td>44</td>\n",
       "      <td>NaN</td>\n",
       "      <td>1391</td>\n",
       "      <td>1243</td>\n",
       "      <td>1259</td>\n",
       "      <td>3</td>\n",
       "      <td>324</td>\n",
       "      <td>11</td>\n",
       "      <td>1564</td>\n",
       "    </tr>\n",
       "    <tr>\n",
       "      <th>mean</th>\n",
       "      <td>NaN</td>\n",
       "      <td>NaN</td>\n",
       "      <td>NaN</td>\n",
       "      <td>NaN</td>\n",
       "      <td>NaN</td>\n",
       "      <td>NaN</td>\n",
       "      <td>NaN</td>\n",
       "      <td>810.015210</td>\n",
       "      <td>NaN</td>\n",
       "      <td>NaN</td>\n",
       "      <td>NaN</td>\n",
       "      <td>NaN</td>\n",
       "      <td>NaN</td>\n",
       "      <td>NaN</td>\n",
       "      <td>NaN</td>\n",
       "    </tr>\n",
       "    <tr>\n",
       "      <th>std</th>\n",
       "      <td>NaN</td>\n",
       "      <td>NaN</td>\n",
       "      <td>NaN</td>\n",
       "      <td>NaN</td>\n",
       "      <td>NaN</td>\n",
       "      <td>NaN</td>\n",
       "      <td>NaN</td>\n",
       "      <td>3217.032404</td>\n",
       "      <td>NaN</td>\n",
       "      <td>NaN</td>\n",
       "      <td>NaN</td>\n",
       "      <td>NaN</td>\n",
       "      <td>NaN</td>\n",
       "      <td>NaN</td>\n",
       "      <td>NaN</td>\n",
       "    </tr>\n",
       "    <tr>\n",
       "      <th>min</th>\n",
       "      <td>NaN</td>\n",
       "      <td>NaN</td>\n",
       "      <td>NaN</td>\n",
       "      <td>NaN</td>\n",
       "      <td>NaN</td>\n",
       "      <td>NaN</td>\n",
       "      <td>NaN</td>\n",
       "      <td>0.140000</td>\n",
       "      <td>NaN</td>\n",
       "      <td>NaN</td>\n",
       "      <td>NaN</td>\n",
       "      <td>NaN</td>\n",
       "      <td>NaN</td>\n",
       "      <td>NaN</td>\n",
       "      <td>NaN</td>\n",
       "    </tr>\n",
       "    <tr>\n",
       "      <th>25%</th>\n",
       "      <td>NaN</td>\n",
       "      <td>NaN</td>\n",
       "      <td>NaN</td>\n",
       "      <td>NaN</td>\n",
       "      <td>NaN</td>\n",
       "      <td>NaN</td>\n",
       "      <td>NaN</td>\n",
       "      <td>298.642500</td>\n",
       "      <td>NaN</td>\n",
       "      <td>NaN</td>\n",
       "      <td>NaN</td>\n",
       "      <td>NaN</td>\n",
       "      <td>NaN</td>\n",
       "      <td>NaN</td>\n",
       "      <td>NaN</td>\n",
       "    </tr>\n",
       "    <tr>\n",
       "      <th>50%</th>\n",
       "      <td>NaN</td>\n",
       "      <td>NaN</td>\n",
       "      <td>NaN</td>\n",
       "      <td>NaN</td>\n",
       "      <td>NaN</td>\n",
       "      <td>NaN</td>\n",
       "      <td>NaN</td>\n",
       "      <td>503.135000</td>\n",
       "      <td>NaN</td>\n",
       "      <td>NaN</td>\n",
       "      <td>NaN</td>\n",
       "      <td>NaN</td>\n",
       "      <td>NaN</td>\n",
       "      <td>NaN</td>\n",
       "      <td>NaN</td>\n",
       "    </tr>\n",
       "    <tr>\n",
       "      <th>75%</th>\n",
       "      <td>NaN</td>\n",
       "      <td>NaN</td>\n",
       "      <td>NaN</td>\n",
       "      <td>NaN</td>\n",
       "      <td>NaN</td>\n",
       "      <td>NaN</td>\n",
       "      <td>NaN</td>\n",
       "      <td>707.397500</td>\n",
       "      <td>NaN</td>\n",
       "      <td>NaN</td>\n",
       "      <td>NaN</td>\n",
       "      <td>NaN</td>\n",
       "      <td>NaN</td>\n",
       "      <td>NaN</td>\n",
       "      <td>NaN</td>\n",
       "    </tr>\n",
       "    <tr>\n",
       "      <th>max</th>\n",
       "      <td>NaN</td>\n",
       "      <td>NaN</td>\n",
       "      <td>NaN</td>\n",
       "      <td>NaN</td>\n",
       "      <td>NaN</td>\n",
       "      <td>NaN</td>\n",
       "      <td>NaN</td>\n",
       "      <td>49890.757060</td>\n",
       "      <td>NaN</td>\n",
       "      <td>NaN</td>\n",
       "      <td>NaN</td>\n",
       "      <td>NaN</td>\n",
       "      <td>NaN</td>\n",
       "      <td>NaN</td>\n",
       "      <td>NaN</td>\n",
       "    </tr>\n",
       "  </tbody>\n",
       "</table>\n",
       "</div>"
      ],
      "text/plain": [
       "       customer_id      full_name  birth_date gender           email  \\\n",
       "count        10800          10800       10800   9470           10504   \n",
       "unique       10300           9636        8132      7            9064   \n",
       "top      CUST13900  Michael Davis  1953-11-15      m  invalid_email@   \n",
       "freq             2              7           6   1371             540   \n",
       "mean           NaN            NaN         NaN    NaN             NaN   \n",
       "std            NaN            NaN         NaN    NaN             NaN   \n",
       "min            NaN            NaN         NaN    NaN             NaN   \n",
       "25%            NaN            NaN         NaN    NaN             NaN   \n",
       "50%            NaN            NaN         NaN    NaN             NaN   \n",
       "75%            NaN            NaN         NaN    NaN             NaN   \n",
       "max            NaN            NaN         NaN    NaN             NaN   \n",
       "\n",
       "           join_date last_purchase   total_spent membership_tier  \\\n",
       "count          10800         10060  10800.000000            9462   \n",
       "unique          3027           366           NaN               7   \n",
       "top     Invalid Date    2024-12-08           NaN          silver   \n",
       "freq             540            44           NaN            1391   \n",
       "mean             NaN           NaN    810.015210             NaN   \n",
       "std              NaN           NaN   3217.032404             NaN   \n",
       "min              NaN           NaN      0.140000             NaN   \n",
       "25%              NaN           NaN    298.642500             NaN   \n",
       "50%              NaN           NaN    503.135000             NaN   \n",
       "75%              NaN           NaN    707.397500             NaN   \n",
       "max              NaN           NaN  49890.757060             NaN   \n",
       "\n",
       "       discount_used product_rating  \\\n",
       "count           9589           8365   \n",
       "unique             8              7   \n",
       "top            False              4   \n",
       "freq            1243           1259   \n",
       "mean             NaN            NaN   \n",
       "std              NaN            NaN   \n",
       "min              NaN            NaN   \n",
       "25%              NaN            NaN   \n",
       "50%              NaN            NaN   \n",
       "75%              NaN            NaN   \n",
       "max              NaN            NaN   \n",
       "\n",
       "                                            address phone_number  \\\n",
       "count                                         10800         9241   \n",
       "unique                                        10161         8264   \n",
       "top     286 Amy Drives, West Mirandaburgh, NJ 41273      123-456   \n",
       "freq                                              3          324   \n",
       "mean                                            NaN          NaN   \n",
       "std                                             NaN          NaN   \n",
       "min                                             NaN          NaN   \n",
       "25%                                             NaN          NaN   \n",
       "50%                                             NaN          NaN   \n",
       "75%                                             NaN          NaN   \n",
       "max                                             NaN          NaN   \n",
       "\n",
       "       loyalty_points purchase_frequency  \n",
       "count           10800               9220  \n",
       "unique           5596                  6  \n",
       "top              4554             weekly  \n",
       "freq               11               1564  \n",
       "mean              NaN                NaN  \n",
       "std               NaN                NaN  \n",
       "min               NaN                NaN  \n",
       "25%               NaN                NaN  \n",
       "50%               NaN                NaN  \n",
       "75%               NaN                NaN  \n",
       "max               NaN                NaN  "
      ]
     },
     "execution_count": 19,
     "metadata": {},
     "output_type": "execute_result"
    }
   ],
   "source": [
    "df.describe(include='all')"
   ]
  },
  {
   "cell_type": "markdown",
   "id": "c54048af-d453-4274-85a1-5d98cc9a20c9",
   "metadata": {},
   "source": [
    "## Missing Value Analysis"
   ]
  },
  {
   "cell_type": "code",
   "execution_count": 26,
   "id": "34f6fa01-d49c-4bd2-b97b-feceb58c1c18",
   "metadata": {},
   "outputs": [
    {
     "name": "stdout",
     "output_type": "stream",
     "text": [
      "=== Missing Values ===\n",
      "gender                1330\n",
      "email                  296\n",
      "last_purchase          740\n",
      "membership_tier       1338\n",
      "discount_used         1211\n",
      "product_rating        2435\n",
      "phone_number          1559\n",
      "purchase_frequency    1580\n",
      "dtype: int64\n"
     ]
    }
   ],
   "source": [
    "print(\"=== Missing Values ===\")\n",
    "missing = df.isna().sum()\n",
    "print(missing[missing > 0])"
   ]
  },
  {
   "cell_type": "code",
   "execution_count": 28,
   "id": "b62782fa-2d55-48b9-b1ba-7c73fa6ff97b",
   "metadata": {},
   "outputs": [
    {
     "data": {
      "image/png": "[encoded data removed]",
      "text/plain": [
       "<Figure size 640x480 with 1 Axes>"
      ]
     },
     "metadata": {},
     "output_type": "display_data"
    }
   ],
   "source": [
    "## Visualizing missingness\n",
    "import seaborn as sns\n",
    "import matplotlib.pyplot as plt\n",
    "sns.heatmap(df.isna(), cbar=False)\n",
    "plt.title(\"Missing Values Heatmap\")\n",
    "plt.show()"
   ]
  },
  {
   "cell_type": "markdown",
   "id": "66db2c79-6642-4af5-9e6e-0a354e2e3ced",
   "metadata": {},
   "source": [
    "## Basic Data Cleaning"
   ]
  },
  {
   "cell_type": "code",
   "execution_count": 31,
   "id": "c6d2d246-8292-4a3f-be14-0d23cec2aeed",
   "metadata": {},
   "outputs": [
    {
     "data": {
      "text/plain": [
       "Index(['customer_id', 'full_name', 'birth_date', 'gender', 'email',\n",
       "       'join_date', 'last_purchase', 'total_spent', 'membership_tier',\n",
       "       'discount_used', 'product_rating', 'address', 'phone_number',\n",
       "       'loyalty_points', 'purchase_frequency'],\n",
       "      dtype='object')"
      ]
     },
     "execution_count": 31,
     "metadata": {},
     "output_type": "execute_result"
    }
   ],
   "source": [
    "df.columns"
   ]
  },
  {
   "cell_type": "code",
   "execution_count": 34,
   "id": "213b5261-497b-4954-ad26-d9c152074b9f",
   "metadata": {},
   "outputs": [],
   "source": [
    "## For datetime (last_purchase): filling with mode\n",
    "df['last_purchase'] = pd.to_datetime(df['last_purchase'])\n",
    "\n",
    "mode_date = df['last_purchase'].mode()[0]\n",
    "\n",
    "df['last_purchase'] = df['last_purchase'].fillna(mode_date)"
   ]
  },
  {
   "cell_type": "code",
   "execution_count": 40,
   "id": "e93daa9b-d46d-4101-9e8e-abfbd2f8d41c",
   "metadata": {},
   "outputs": [
    {
     "data": {
      "text/plain": [
       "0"
      ]
     },
     "execution_count": 40,
     "metadata": {},
     "output_type": "execute_result"
    }
   ],
   "source": [
    "df['last_purchase'].isna().sum()"
   ]
  },
  {
   "cell_type": "code",
   "execution_count": 42,
   "id": "2e5b98b4-f560-4dd9-86e0-2458a9a38352",
   "metadata": {},
   "outputs": [],
   "source": [
    "## For categorical (gender): new category 'Unknown'\n",
    "df['gender'] = df['gender'].fillna('Unknown')"
   ]
  },
  {
   "cell_type": "code",
   "execution_count": 44,
   "id": "39faf8c7-2c79-4664-8d8f-9e60093f6cea",
   "metadata": {},
   "outputs": [
    {
     "data": {
      "text/plain": [
       "0"
      ]
     },
     "execution_count": 44,
     "metadata": {},
     "output_type": "execute_result"
    }
   ],
   "source": [
    "df['gender'].isna().sum()"
   ]
  },
  {
   "cell_type": "code",
   "execution_count": 52,
   "id": "059d613a-579f-4673-96fe-57885b399850",
   "metadata": {},
   "outputs": [],
   "source": [
    "## For numerical (loyalty_points): median imputation\n",
    "df['loyalty_points'] = pd.to_numeric(df['loyalty_points'], errors='coerce')"
   ]
  },
  {
   "cell_type": "code",
   "execution_count": 54,
   "id": "1a710f6c-5c67-4d78-adfb-8cae13a02751",
   "metadata": {},
   "outputs": [
    {
     "data": {
      "text/plain": [
       "1620"
      ]
     },
     "execution_count": 54,
     "metadata": {},
     "output_type": "execute_result"
    }
   ],
   "source": [
    "df['loyalty_points'].isna().sum()"
   ]
  },
  {
   "cell_type": "code",
   "execution_count": 56,
   "id": "bd574465-5b32-4e0e-8f54-530f7e86a88f",
   "metadata": {},
   "outputs": [
    {
     "data": {
      "text/plain": [
       "0"
      ]
     },
     "execution_count": 56,
     "metadata": {},
     "output_type": "execute_result"
    }
   ],
   "source": [
    "df['loyalty_points'] = df['loyalty_points'].fillna(df['loyalty_points'].median())\n",
    "df['loyalty_points'].isna().sum()"
   ]
  },
  {
   "cell_type": "markdown",
   "id": "93517b15-7f3d-4470-9c8a-59fb5cd6dc0b",
   "metadata": {},
   "source": [
    "## Standardizing Text Data\n",
    "* Clean name, email, and address fields."
   ]
  },
  {
   "cell_type": "code",
   "execution_count": 59,
   "id": "728ec958-700f-4084-a0da-503edda8e897",
   "metadata": {},
   "outputs": [
    {
     "data": {
      "text/plain": [
       "Index(['customer_id', 'full_name', 'birth_date', 'gender', 'email',\n",
       "       'join_date', 'last_purchase', 'total_spent', 'membership_tier',\n",
       "       'discount_used', 'product_rating', 'address', 'phone_number',\n",
       "       'loyalty_points', 'purchase_frequency'],\n",
       "      dtype='object')"
      ]
     },
     "execution_count": 59,
     "metadata": {},
     "output_type": "execute_result"
    }
   ],
   "source": [
    "df.columns"
   ]
  },
  {
   "cell_type": "code",
   "execution_count": 61,
   "id": "1ea10d90-7d23-4ca1-b3dd-aaeda41442fe",
   "metadata": {},
   "outputs": [
    {
     "data": {
      "text/plain": [
       "0               Susan Chen\n",
       "1               Bryan Horn\n",
       "2             LAUREN HARDY\n",
       "3            AMY CERVANTES\n",
       "4            Amanda Taylor\n",
       "               ...        \n",
       "10795     MICHELLE WHEELER\n",
       "10796    Sarah Lambert PhD\n",
       "10797       Jeffrey Steele\n",
       "10798          Jason Cross\n",
       "10799     Alexandra Lawson\n",
       "Name: full_name, Length: 10800, dtype: object"
      ]
     },
     "execution_count": 61,
     "metadata": {},
     "output_type": "execute_result"
    }
   ],
   "source": [
    "## Names: Title case and remove extra spaces\n",
    "df['full_name']"
   ]
  },
  {
   "cell_type": "code",
   "execution_count": 63,
   "id": "7a18dd4b-3839-4a12-b24f-c118e377c48e",
   "metadata": {},
   "outputs": [],
   "source": [
    "df['full_name'] = df['full_name'].str.title().str.replace(r'\\s+', ' ', regex=True)"
   ]
  },
  {
   "cell_type": "code",
   "execution_count": 65,
   "id": "503220ea-dbae-4d68-9c6f-73f584906495",
   "metadata": {},
   "outputs": [
    {
     "data": {
      "text/plain": [
       "0               Susan Chen\n",
       "1               Bryan Horn\n",
       "2             Lauren Hardy\n",
       "3            Amy Cervantes\n",
       "4            Amanda Taylor\n",
       "               ...        \n",
       "10795     Michelle Wheeler\n",
       "10796    Sarah Lambert Phd\n",
       "10797       Jeffrey Steele\n",
       "10798          Jason Cross\n",
       "10799     Alexandra Lawson\n",
       "Name: full_name, Length: 10800, dtype: object"
      ]
     },
     "execution_count": 65,
     "metadata": {},
     "output_type": "execute_result"
    }
   ],
   "source": [
    "df['full_name']"
   ]
  },
  {
   "cell_type": "code",
   "execution_count": 67,
   "id": "64333a6c-173e-4caf-907b-697f47939f11",
   "metadata": {},
   "outputs": [
    {
     "data": {
      "text/plain": [
       "0            michelle29@example.com\n",
       "1         jessicafuller@example.com\n",
       "2         littlemichael@example.com\n",
       "3                 aross@example.net\n",
       "4           smithjoshua@example.net\n",
       "                    ...            \n",
       "10795      matthewsgail@example.net\n",
       "10796    ricardoharrell@example.net\n",
       "10797       changdustin@example.net\n",
       "10798    stanleykenneth@example.net\n",
       "10799        cesardavis@example.com\n",
       "Name: email, Length: 10800, dtype: object"
      ]
     },
     "execution_count": 67,
     "metadata": {},
     "output_type": "execute_result"
    }
   ],
   "source": [
    "## Emails: Lowercase and validate format\n",
    "df['email']"
   ]
  },
  {
   "cell_type": "code",
   "execution_count": 69,
   "id": "b99f2c1e-011c-4464-9384-ffaf13b21969",
   "metadata": {},
   "outputs": [],
   "source": [
    "df['email'] = df['email'].str.lower()"
   ]
  },
  {
   "cell_type": "code",
   "execution_count": 71,
   "id": "0fa8b18e-cb41-4664-a375-bda9d8ef9e4b",
   "metadata": {},
   "outputs": [],
   "source": [
    "invalid_emails = ~df['email'].str.contains(r'^[\\w\\.-]+@[\\w\\.-]+\\.\\w+$', na=False)"
   ]
  },
  {
   "cell_type": "code",
   "execution_count": 73,
   "id": "83951aae-6c8c-40a7-8ff6-e35c2bc8a950",
   "metadata": {},
   "outputs": [],
   "source": [
    "df.loc[invalid_emails, 'email'] = np.nan"
   ]
  },
  {
   "cell_type": "code",
   "execution_count": 77,
   "id": "a5a672ad-17b4-47dc-adfa-745303aea24e",
   "metadata": {},
   "outputs": [
    {
     "data": {
      "text/plain": [
       "0            9690 John Spurs Apt. 752, Walterton, AZ 76832\n",
       "1           52018 Hubbard Islands, Archerchester, ND 19523\n",
       "2                 06170 Mary Parkways, Tammybury, SC 62336\n",
       "3        780 Gilbert Centers Suite 823, West Kelly, MO ...\n",
       "4                888 Taylor Pass, Garrettchester, DE 25596\n",
       "                               ...                        \n",
       "10795             212 Marie Freeway, Mirandaside, WV 54004\n",
       "10796          878 Derrick Skyway, Alexandraport, AL 59620\n",
       "10797                     PSC 3766, Box 1669, APO AE 32811\n",
       "10798    540 Clark Lakes Suite 140, Lake Travisborough,...\n",
       "10799    01081 Shaffer Radial, West Katherinechester, I...\n",
       "Name: address, Length: 10800, dtype: object"
      ]
     },
     "execution_count": 77,
     "metadata": {},
     "output_type": "execute_result"
    }
   ],
   "source": [
    "df['address']"
   ]
  },
  {
   "cell_type": "code",
   "execution_count": 81,
   "id": "9b7dab1b-785b-41cd-8df7-0283e321fc2d",
   "metadata": {},
   "outputs": [
    {
     "data": {
      "text/html": [
       "<div>\n",
       "<style scoped>\n",
       "    .dataframe tbody tr th:only-of-type {\n",
       "        vertical-align: middle;\n",
       "    }\n",
       "\n",
       "    .dataframe tbody tr th {\n",
       "        vertical-align: top;\n",
       "    }\n",
       "\n",
       "    .dataframe thead th {\n",
       "        text-align: right;\n",
       "    }\n",
       "</style>\n",
       "<table border=\"1\" class=\"dataframe\">\n",
       "  <thead>\n",
       "    <tr style=\"text-align: right;\">\n",
       "      <th></th>\n",
       "      <th>full_name</th>\n",
       "      <th>email</th>\n",
       "    </tr>\n",
       "  </thead>\n",
       "  <tbody>\n",
       "    <tr>\n",
       "      <th>2427</th>\n",
       "      <td>Amanda Smith</td>\n",
       "      <td>NaN</td>\n",
       "    </tr>\n",
       "    <tr>\n",
       "      <th>93</th>\n",
       "      <td>Nathaniel Stewart</td>\n",
       "      <td>NaN</td>\n",
       "    </tr>\n",
       "    <tr>\n",
       "      <th>17</th>\n",
       "      <td>Christopher Jackson</td>\n",
       "      <td>dana04@example.net</td>\n",
       "    </tr>\n",
       "  </tbody>\n",
       "</table>\n",
       "</div>"
      ],
      "text/plain": [
       "                full_name               email\n",
       "2427         Amanda Smith                 NaN\n",
       "93      Nathaniel Stewart                 NaN\n",
       "17    Christopher Jackson  dana04@example.net"
      ]
     },
     "execution_count": 81,
     "metadata": {},
     "output_type": "execute_result"
    }
   ],
   "source": [
    "df[['full_name', 'email']].sample(3)"
   ]
  },
  {
   "cell_type": "markdown",
   "id": "aa6112ca-88ff-485f-8a75-f0ae4f065541",
   "metadata": {},
   "source": [
    "## Intermediate Data Cleaning"
   ]
  },
  {
   "cell_type": "code",
   "execution_count": 84,
   "id": "9efe441f-9645-499d-863d-ea6688a1b724",
   "metadata": {},
   "outputs": [
    {
     "data": {
      "text/plain": [
       "Index(['customer_id', 'full_name', 'birth_date', 'gender', 'email',\n",
       "       'join_date', 'last_purchase', 'total_spent', 'membership_tier',\n",
       "       'discount_used', 'product_rating', 'address', 'phone_number',\n",
       "       'loyalty_points', 'purchase_frequency'],\n",
       "      dtype='object')"
      ]
     },
     "execution_count": 84,
     "metadata": {},
     "output_type": "execute_result"
    }
   ],
   "source": [
    "df.columns"
   ]
  },
  {
   "cell_type": "code",
   "execution_count": 86,
   "id": "132f8506-788f-4f4c-81b3-ed92ab9ca78c",
   "metadata": {},
   "outputs": [
    {
     "data": {
      "text/plain": [
       "0        2021-09-13\n",
       "1        2021-01-28\n",
       "2        2020-06-08\n",
       "3        2022-11-10\n",
       "4        2021-08-10\n",
       "            ...    \n",
       "10795    2023-10-01\n",
       "10796    10/20/2023\n",
       "10797    2020-06-27\n",
       "10798    2023-06-13\n",
       "10799    2020-07-23\n",
       "Name: join_date, Length: 10800, dtype: object"
      ]
     },
     "execution_count": 86,
     "metadata": {},
     "output_type": "execute_result"
    }
   ],
   "source": [
    "## Convert dates with error handling\n",
    "df['join_date']"
   ]
  },
  {
   "cell_type": "code",
   "execution_count": 88,
   "id": "b0de608f-fcf0-44ea-9f1d-f7bdd72ec061",
   "metadata": {},
   "outputs": [],
   "source": [
    "df['join_date'] = pd.to_datetime(df['join_date'], errors='coerce')"
   ]
  },
  {
   "cell_type": "code",
   "execution_count": 90,
   "id": "679f826c-1bd0-4d32-bd47-e49f720261a5",
   "metadata": {},
   "outputs": [
    {
     "data": {
      "text/plain": [
       "0        1968-09-22\n",
       "1        1974-06-25\n",
       "2        1992-11-14\n",
       "3        1949-05-09\n",
       "4        1950-03-29\n",
       "            ...    \n",
       "10795    1998-11-17\n",
       "10796    1977-03-01\n",
       "10797    1981-04-30\n",
       "10798    1953-11-15\n",
       "10799    1957-02-15\n",
       "Name: birth_date, Length: 10800, dtype: object"
      ]
     },
     "execution_count": 90,
     "metadata": {},
     "output_type": "execute_result"
    }
   ],
   "source": [
    "df['birth_date']"
   ]
  },
  {
   "cell_type": "code",
   "execution_count": 92,
   "id": "e7467ab9-fd66-479f-b149-4aff9dc7f6f0",
   "metadata": {},
   "outputs": [],
   "source": [
    "df['birth_date'] = pd.to_datetime(df['birth_date'], errors='coerce')"
   ]
  },
  {
   "cell_type": "code",
   "execution_count": 94,
   "id": "7156459e-1951-4595-b705-ca2c72217f68",
   "metadata": {},
   "outputs": [],
   "source": [
    "## Created new features\n",
    "df['customer_tenure'] = (pd.to_datetime('today') - df['join_date']).dt.days"
   ]
  },
  {
   "cell_type": "code",
   "execution_count": 103,
   "id": "43af1f8c-3e43-4c43-a6b0-62d89075907f",
   "metadata": {},
   "outputs": [
    {
     "data": {
      "text/plain": [
       "9993     424.0\n",
       "6288       NaN\n",
       "9588     757.0\n",
       "2421     845.0\n",
       "6933    1667.0\n",
       "Name: customer_tenure, dtype: float64"
      ]
     },
     "execution_count": 103,
     "metadata": {},
     "output_type": "execute_result"
    }
   ],
   "source": [
    "df.customer_tenure.sample(5)"
   ]
  },
  {
   "cell_type": "code",
   "execution_count": 105,
   "id": "d5ed75e4-14fe-4662-a9db-a7fa2674341b",
   "metadata": {},
   "outputs": [],
   "source": [
    "df['age'] = (pd.to_datetime('today') - df['birth_date']).dt.days//365"
   ]
  },
  {
   "cell_type": "code",
   "execution_count": 107,
   "id": "e9357d72-79f4-4e15-9f0d-ce09d9e5e799",
   "metadata": {},
   "outputs": [
    {
     "data": {
      "text/plain": [
       "2280    70\n",
       "6102    31\n",
       "1876    46\n",
       "6649    24\n",
       "304     64\n",
       "Name: age, dtype: int64"
      ]
     },
     "execution_count": 107,
     "metadata": {},
     "output_type": "execute_result"
    }
   ],
   "source": [
    "df['age'].sample(5)"
   ]
  },
  {
   "cell_type": "code",
   "execution_count": 109,
   "id": "5f0cf893-445d-459d-ac30-b68c21dd8a4f",
   "metadata": {},
   "outputs": [],
   "source": [
    "df['days_since_purchase'] = (pd.to_datetime('today') - df['last_purchase']).dt.days"
   ]
  },
  {
   "cell_type": "code",
   "execution_count": 111,
   "id": "07b54284-f37f-466c-a820-16cbffb90834",
   "metadata": {},
   "outputs": [
    {
     "data": {
      "text/html": [
       "<div>\n",
       "<style scoped>\n",
       "    .dataframe tbody tr th:only-of-type {\n",
       "        vertical-align: middle;\n",
       "    }\n",
       "\n",
       "    .dataframe tbody tr th {\n",
       "        vertical-align: top;\n",
       "    }\n",
       "\n",
       "    .dataframe thead th {\n",
       "        text-align: right;\n",
       "    }\n",
       "</style>\n",
       "<table border=\"1\" class=\"dataframe\">\n",
       "  <thead>\n",
       "    <tr style=\"text-align: right;\">\n",
       "      <th></th>\n",
       "      <th>customer_tenure</th>\n",
       "      <th>age</th>\n",
       "      <th>days_since_purchase</th>\n",
       "    </tr>\n",
       "  </thead>\n",
       "  <tbody>\n",
       "    <tr>\n",
       "      <th>count</th>\n",
       "      <td>8210.000000</td>\n",
       "      <td>10800.000000</td>\n",
       "      <td>10800.000000</td>\n",
       "    </tr>\n",
       "    <tr>\n",
       "      <th>mean</th>\n",
       "      <td>913.047259</td>\n",
       "      <td>49.130648</td>\n",
       "      <td>177.890926</td>\n",
       "    </tr>\n",
       "    <tr>\n",
       "      <th>std</th>\n",
       "      <td>527.616425</td>\n",
       "      <td>18.208876</td>\n",
       "      <td>103.524774</td>\n",
       "    </tr>\n",
       "    <tr>\n",
       "      <th>min</th>\n",
       "      <td>1.000000</td>\n",
       "      <td>18.000000</td>\n",
       "      <td>1.000000</td>\n",
       "    </tr>\n",
       "    <tr>\n",
       "      <th>25%</th>\n",
       "      <td>454.000000</td>\n",
       "      <td>33.000000</td>\n",
       "      <td>95.000000</td>\n",
       "    </tr>\n",
       "    <tr>\n",
       "      <th>50%</th>\n",
       "      <td>912.000000</td>\n",
       "      <td>49.000000</td>\n",
       "      <td>169.000000</td>\n",
       "    </tr>\n",
       "    <tr>\n",
       "      <th>75%</th>\n",
       "      <td>1367.000000</td>\n",
       "      <td>65.000000</td>\n",
       "      <td>267.000000</td>\n",
       "    </tr>\n",
       "    <tr>\n",
       "      <th>max</th>\n",
       "      <td>1827.000000</td>\n",
       "      <td>81.000000</td>\n",
       "      <td>366.000000</td>\n",
       "    </tr>\n",
       "  </tbody>\n",
       "</table>\n",
       "</div>"
      ],
      "text/plain": [
       "       customer_tenure           age  days_since_purchase\n",
       "count      8210.000000  10800.000000         10800.000000\n",
       "mean        913.047259     49.130648           177.890926\n",
       "std         527.616425     18.208876           103.524774\n",
       "min           1.000000     18.000000             1.000000\n",
       "25%         454.000000     33.000000            95.000000\n",
       "50%         912.000000     49.000000           169.000000\n",
       "75%        1367.000000     65.000000           267.000000\n",
       "max        1827.000000     81.000000           366.000000"
      ]
     },
     "execution_count": 111,
     "metadata": {},
     "output_type": "execute_result"
    }
   ],
   "source": [
    "df[['customer_tenure', 'age', 'days_since_purchase']].describe()"
   ]
  },
  {
   "cell_type": "markdown",
   "id": "4a603241-63d4-4107-950e-ec3f9c61bf98",
   "metadata": {},
   "source": [
    "## Categorical Value Standardization"
   ]
  },
  {
   "cell_type": "code",
   "execution_count": 114,
   "id": "1c2df30e-594e-4077-9da5-31082e9f1300",
   "metadata": {},
   "outputs": [
    {
     "data": {
      "text/plain": [
       "Index(['customer_id', 'full_name', 'birth_date', 'gender', 'email',\n",
       "       'join_date', 'last_purchase', 'total_spent', 'membership_tier',\n",
       "       'discount_used', 'product_rating', 'address', 'phone_number',\n",
       "       'loyalty_points', 'purchase_frequency', 'customer_tenure', 'age',\n",
       "       'days_since_purchase'],\n",
       "      dtype='object')"
      ]
     },
     "execution_count": 114,
     "metadata": {},
     "output_type": "execute_result"
    }
   ],
   "source": [
    "df.columns"
   ]
  },
  {
   "cell_type": "code",
   "execution_count": 122,
   "id": "2d0d4d8c-13d5-46c9-afe3-0ef16ba8c7cb",
   "metadata": {},
   "outputs": [
    {
     "data": {
      "text/plain": [
       "3535        Male\n",
       "4361           U\n",
       "10788          f\n",
       "1231     Unknown\n",
       "3684      Female\n",
       "Name: gender, dtype: object"
      ]
     },
     "execution_count": 122,
     "metadata": {},
     "output_type": "execute_result"
    }
   ],
   "source": [
    "df.gender.sample(5)"
   ]
  },
  {
   "cell_type": "code",
   "execution_count": 124,
   "id": "7ace9006-ab93-45e9-a55f-802693cf42ee",
   "metadata": {},
   "outputs": [],
   "source": [
    "gender_map = {'M': 'Male', 'Male': 'Male', 'm': 'Male',\n",
    "              'F': 'Female', 'Female': 'Female', 'f': 'Female'}\n",
    "df['gender'] = df['gender'].map(gender_map).fillna('Unknown')"
   ]
  },
  {
   "cell_type": "code",
   "execution_count": 130,
   "id": "0a2daf09-012a-4355-a6f4-2bd86710b136",
   "metadata": {},
   "outputs": [
    {
     "data": {
      "text/plain": [
       "1439        Male\n",
       "10484       Male\n",
       "2968     Unknown\n",
       "6654      Female\n",
       "2617     Unknown\n",
       "Name: gender, dtype: object"
      ]
     },
     "execution_count": 130,
     "metadata": {},
     "output_type": "execute_result"
    }
   ],
   "source": [
    "df.gender.sample(5)"
   ]
  },
  {
   "cell_type": "code",
   "execution_count": 132,
   "id": "aef58f69-f4af-4cd1-beda-e5ad3bfb34eb",
   "metadata": {},
   "outputs": [
    {
     "data": {
      "text/plain": [
       "0           NaN\n",
       "1          gold\n",
       "2          Gold\n",
       "3        Bronze\n",
       "4          GOLD\n",
       "          ...  \n",
       "10795    Bronze\n",
       "10796       NaN\n",
       "10797    Bronze\n",
       "10798    bronze\n",
       "10799    Bronze\n",
       "Name: membership_tier, Length: 10800, dtype: object"
      ]
     },
     "execution_count": 132,
     "metadata": {},
     "output_type": "execute_result"
    }
   ],
   "source": [
    "df['membership_tier']"
   ]
  },
  {
   "cell_type": "code",
   "execution_count": 134,
   "id": "84f377f3-1362-4519-af86-038a53840273",
   "metadata": {},
   "outputs": [],
   "source": [
    "## Membership tier cleaning\n",
    "df['membership_tier'] = (df['membership_tier']\n",
    "                         .str.capitalize()\n",
    "                         .replace({'Gold': 'Gold', 'Silver': 'Silver', 'Bronze': 'Bronze'}))"
   ]
  },
  {
   "cell_type": "code",
   "execution_count": 136,
   "id": "c6580eff-0a57-4ea6-9039-9feb265c494f",
   "metadata": {},
   "outputs": [
    {
     "data": {
      "text/plain": [
       "4086       Gold\n",
       "8497     Bronze\n",
       "10125    Silver\n",
       "4342     Silver\n",
       "7437       Gold\n",
       "Name: membership_tier, dtype: object"
      ]
     },
     "execution_count": 136,
     "metadata": {},
     "output_type": "execute_result"
    }
   ],
   "source": [
    "df['membership_tier'].sample(5)"
   ]
  },
  {
   "cell_type": "code",
   "execution_count": 144,
   "id": "0504fe1e-506f-4300-9d88-c59f76056487",
   "metadata": {},
   "outputs": [
    {
     "data": {
      "text/plain": [
       "8607       NaN\n",
       "5107    Weekly\n",
       "6283    Yearly\n",
       "9897     daily\n",
       "2320       NaN\n",
       "8293    weekly\n",
       "6942    Yearly\n",
       "279     Yearly\n",
       "5719    weekly\n",
       "9875     Daily\n",
       "Name: purchase_frequency, dtype: object"
      ]
     },
     "execution_count": 144,
     "metadata": {},
     "output_type": "execute_result"
    }
   ],
   "source": [
    "df['purchase_frequency'].sample(10)"
   ]
  },
  {
   "cell_type": "code",
   "execution_count": 146,
   "id": "f0c22839-e6b6-4209-aa05-6ae83c792f86",
   "metadata": {},
   "outputs": [],
   "source": [
    "df['purchase_frequency'] = (df['purchase_frequency']\n",
    "                           .str.title()\n",
    "                           .replace({'Daily': 'Daily', 'Weekly': 'Weekly',\n",
    "                                    'Monthly': 'Monthly', 'Yearly': 'Yearly'}))"
   ]
  },
  {
   "cell_type": "code",
   "execution_count": 148,
   "id": "ab19288e-6ec3-4c20-ae4c-a5e12a55173b",
   "metadata": {},
   "outputs": [
    {
     "data": {
      "text/plain": [
       "298          NaN\n",
       "3304         NaN\n",
       "9356     Monthly\n",
       "10720     Weekly\n",
       "7997       Daily\n",
       "7955     Monthly\n",
       "2496       Daily\n",
       "4272      Weekly\n",
       "8882      Weekly\n",
       "6733      Weekly\n",
       "Name: purchase_frequency, dtype: object"
      ]
     },
     "execution_count": 148,
     "metadata": {},
     "output_type": "execute_result"
    }
   ],
   "source": [
    "df['purchase_frequency'].sample(10)"
   ]
  },
  {
   "cell_type": "code",
   "execution_count": 150,
   "id": "0c57c6b6-035a-4c60-aca2-5ed99382a1d8",
   "metadata": {},
   "outputs": [
    {
     "data": {
      "text/plain": [
       "gender\n",
       "Male       4071\n",
       "Female     4049\n",
       "Unknown    2680\n",
       "Name: count, dtype: int64"
      ]
     },
     "execution_count": 150,
     "metadata": {},
     "output_type": "execute_result"
    }
   ],
   "source": [
    "df['gender'].value_counts()"
   ]
  },
  {
   "cell_type": "code",
   "execution_count": 152,
   "id": "9f8d83af-47f9-4b84-8160-6071428e40be",
   "metadata": {},
   "outputs": [
    {
     "data": {
      "text/plain": [
       "membership_tier\n",
       "Gold      4024\n",
       "Bronze    2722\n",
       "Silver    2716\n",
       "Name: count, dtype: int64"
      ]
     },
     "execution_count": 152,
     "metadata": {},
     "output_type": "execute_result"
    }
   ],
   "source": [
    "df['membership_tier'].value_counts()"
   ]
  },
  {
   "cell_type": "markdown",
   "id": "936cafe0-ab39-47ab-a385-d05d79c0d104",
   "metadata": {},
   "source": [
    "## Outlier Detection\n",
    "* Indentifying and handling outliers in numerical columns"
   ]
  },
  {
   "cell_type": "code",
   "execution_count": 158,
   "id": "dbf073f7-3543-40d3-b0b8-8cc7f10162fc",
   "metadata": {},
   "outputs": [
    {
     "data": {
      "text/plain": [
       "Index(['customer_id', 'full_name', 'birth_date', 'gender', 'email',\n",
       "       'join_date', 'last_purchase', 'total_spent', 'membership_tier',\n",
       "       'discount_used', 'product_rating', 'address', 'phone_number',\n",
       "       'loyalty_points', 'purchase_frequency', 'customer_tenure', 'age',\n",
       "       'days_since_purchase'],\n",
       "      dtype='object')"
      ]
     },
     "execution_count": 158,
     "metadata": {},
     "output_type": "execute_result"
    }
   ],
   "source": [
    "df.columns"
   ]
  },
  {
   "cell_type": "code",
   "execution_count": 160,
   "id": "9085a6d9-74a2-458e-9978-41b017bccef6",
   "metadata": {},
   "outputs": [],
   "source": [
    "import matplotlib.pyplot as plt"
   ]
  },
  {
   "cell_type": "code",
   "execution_count": 162,
   "id": "c321891d-4bb6-48eb-8cd4-7650864e6908",
   "metadata": {},
   "outputs": [
    {
     "data": {
      "image/png": "[encoded data removed]",
      "text/plain": [
       "<Figure size 640x480 with 1 Axes>"
      ]
     },
     "metadata": {},
     "output_type": "display_data"
    }
   ],
   "source": [
    "## Visual detection\n",
    "num_cols = ['total_spent', 'loyalty_points', 'age']\n",
    "df[num_cols].boxplot()\n",
    "plt.title('Outlier Detection')\n",
    "plt.show()"
   ]
  },
  {
   "cell_type": "code",
   "execution_count": 164,
   "id": "0d17f2c2-6fd9-4f19-a642-0700b7331eb2",
   "metadata": {},
   "outputs": [],
   "source": [
    "## IQR method\n",
    "Q1 = df[num_cols].quantile(0.25)\n",
    "Q3 = df[num_cols].quantile(0.75)\n",
    "IQR = Q3-Q1"
   ]
  },
  {
   "cell_type": "code",
   "execution_count": 176,
   "id": "cc27c0f0-8e43-47ee-bb91-2e824fb33960",
   "metadata": {},
   "outputs": [
    {
     "name": "stdout",
     "output_type": "stream",
     "text": [
      "        total_spent  loyalty_points           age\n",
      "count  10800.000000    10800.000000  10800.000000\n",
      "mean     517.020805     2425.178380     49.130648\n",
      "std      287.083891     1421.714945     18.208876\n",
      "min        0.140000    -1743.500000     18.000000\n",
      "25%      298.642500     1399.000000     33.000000\n",
      "50%      503.135000     2461.000000     49.000000\n",
      "75%      707.397500     3494.000000     65.000000\n",
      "max     1320.530000     4999.000000     81.000000\n"
     ]
    }
   ],
   "source": [
    "## Capping outliers\n",
    "for col in num_cols:\n",
    "    lower_bound = Q1[col] - 1.5 * IQR[col]\n",
    "    upper_bound = Q3[col] + 1.5 * IQR[col]\n",
    "    df[col] = df[col].clip(lower_bound, upper_bound)\n",
    "print(df[num_cols].describe())"
   ]
  },
  {
   "cell_type": "markdown",
   "id": "99ff9e05-36ab-4df8-b454-0c2dfb79710c",
   "metadata": {},
   "source": [
    "## Correlation Analysis\n",
    "* Exploring relationships between numerical variables"
   ]
  },
  {
   "cell_type": "code",
   "execution_count": 180,
   "id": "66849031-d78e-45ad-bb15-77673239939f",
   "metadata": {},
   "outputs": [
    {
     "data": {
      "text/plain": [
       "Index(['customer_id', 'full_name', 'birth_date', 'gender', 'email',\n",
       "       'join_date', 'last_purchase', 'total_spent', 'membership_tier',\n",
       "       'discount_used', 'product_rating', 'address', 'phone_number',\n",
       "       'loyalty_points', 'purchase_frequency', 'customer_tenure', 'age',\n",
       "       'days_since_purchase'],\n",
       "      dtype='object')"
      ]
     },
     "execution_count": 180,
     "metadata": {},
     "output_type": "execute_result"
    }
   ],
   "source": [
    "df.columns"
   ]
  },
  {
   "cell_type": "code",
   "execution_count": 182,
   "id": "114c9fb0-e1f1-4704-a09f-148b349de0cf",
   "metadata": {},
   "outputs": [
    {
     "data": {
      "image/png": "[encoded data removed]",
      "text/plain": [
       "<Figure size 640x480 with 2 Axes>"
      ]
     },
     "metadata": {},
     "output_type": "display_data"
    }
   ],
   "source": [
    "corr_matrix = df[num_cols + ['customer_tenure', 'days_since_purchase']].corr()\n",
    "sns.heatmap(corr_matrix, annot=True, cmap='coolwarm')\n",
    "plt.title(\"Correlation Matrix\")\n",
    "plt.show()"
   ]
  },
  {
   "cell_type": "code",
   "execution_count": 184,
   "id": "54c8bd3e-7dd6-43a8-a008-fa4514cce229",
   "metadata": {},
   "outputs": [
    {
     "name": "stdout",
     "output_type": "stream",
     "text": [
      "\n",
      "AVG spending by membership tier:\n"
     ]
    },
    {
     "data": {
      "text/plain": [
       "membership_tier\n",
       "Bronze    527.780606\n",
       "Gold      513.143211\n",
       "Silver    512.892058\n",
       "Name: total_spent, dtype: float64"
      ]
     },
     "execution_count": 184,
     "metadata": {},
     "output_type": "execute_result"
    }
   ],
   "source": [
    "## Segment analysis\n",
    "print(\"\\nAVG spending by membership tier:\")\n",
    "df.groupby('membership_tier')['total_spent'].mean().sort_values(ascending=False)"
   ]
  },
  {
   "cell_type": "markdown",
   "id": "2b012b61-8189-4722-a714-746c3c471b71",
   "metadata": {},
   "source": [
    "## Final Data Quality Report"
   ]
  },
  {
   "cell_type": "code",
   "execution_count": 187,
   "id": "527bcf93-caf2-4ee3-b1b5-cc1267f7e67b",
   "metadata": {},
   "outputs": [],
   "source": [
    "def generate_quality_report(df):\n",
    "    report = {\n",
    "        'remaining_missing': df.isna().sum().sum(),\n",
    "        'duplicate_rows': df.duplicated().sum(),\n",
    "        'numeric_ranges': {col: (df[col].min(), df[col].max())\n",
    "                          for col in num_cols},\n",
    "        'categorical_values': {col: df[col].nunique()\n",
    "                              for col in df.select_dtypes(include='object')},\n",
    "        'date_consistency': {\n",
    "            'join_before_purchase': (df['join_date'] <= df['last_purchase']).all(),\n",
    "            'valid_ages': df['age'].between(18,100).all()\n",
    "        }\n",
    "    }\n",
    "    return report"
   ]
  },
  {
   "cell_type": "code",
   "execution_count": 189,
   "id": "1ebe9f6b-7580-4c94-8ae2-7918f474e196",
   "metadata": {},
   "outputs": [
    {
     "name": "stdout",
     "output_type": "stream",
     "text": [
      "=== Final Data Quality Report ===\n",
      "\n",
      "Remaining Missing:\n",
      "14139\n",
      "\n",
      "Duplicate Rows:\n",
      "160\n",
      "\n",
      "Numeric Ranges:\n",
      "{'total_spent': (0.14, 1320.53), 'loyalty_points': (-1743.5, 4999.0), 'age': (18, 81)}\n",
      "\n",
      "Categorical Values:\n",
      "{'customer_id': 10300, 'full_name': 9404, 'gender': 3, 'email': 9063, 'membership_tier': 3, 'discount_used': 8, 'product_rating': 7, 'address': 10161, 'phone_number': 8264, 'purchase_frequency': 4}\n",
      "\n",
      "Date Consistency:\n",
      "{'join_before_purchase': False, 'valid_ages': True}\n"
     ]
    }
   ],
   "source": [
    "quality_report = generate_quality_report(df)\n",
    "print(\"=== Final Data Quality Report ===\")\n",
    "for k, v in quality_report.items():\n",
    "    print(f\"\\n{k.replace('_', ' ').title()}:\")\n",
    "    print(v)"
   ]
  },
  {
   "cell_type": "code",
   "execution_count": null,
   "id": "3f64159c-4a69-43d6-b126-c619c5506cce",
   "metadata": {},
   "outputs": [],
   "source": []
  }
 ],
 "metadata": {
  "kernelspec": {
   "display_name": "Python [conda env:base] *",
   "language": "python",
   "name": "conda-base-py"
  },
  "language_info": {
   "codemirror_mode": {
    "name": "ipython",
    "version": 3
   },
   "file_extension": ".py",
   "mimetype": "text/x-python",
   "name": "python",
   "nbconvert_exporter": "python",
   "pygments_lexer": "ipython3",
   "version": "3.12.7"
  }
 },
 "nbformat": 4,
 "nbformat_minor": 5
}
